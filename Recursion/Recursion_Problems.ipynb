{
 "cells": [
  {
   "cell_type": "markdown",
   "id": "37f1ecc0",
   "metadata": {},
   "source": [
    "## Power of a number"
   ]
  },
  {
   "cell_type": "code",
   "execution_count": 6,
   "id": "a133bfff",
   "metadata": {},
   "outputs": [
    {
     "name": "stdout",
     "output_type": "stream",
     "text": [
      "1\n"
     ]
    },
    {
     "data": {
      "text/plain": [
       "618970019642690137449562112"
      ]
     },
     "execution_count": 6,
     "metadata": {},
     "output_type": "execute_result"
    }
   ],
   "source": [
    "# a^b\n",
    "def powNum(a,b):\n",
    "    print(1)\n",
    "    if b == 1:\n",
    "        return a\n",
    "    \n",
    "    if a == 0:\n",
    "        return 1\n",
    "    \n",
    "    return a*pow(a,b-1)\n",
    "    \n",
    "\n",
    "a,b = 2,89\n",
    "powNum(a,b)"
   ]
  },
  {
   "cell_type": "markdown",
   "id": "fb05a3c8",
   "metadata": {},
   "source": [
    "## Check Number"
   ]
  },
  {
   "cell_type": "code",
   "execution_count": 7,
   "id": "6f3f5df3",
   "metadata": {},
   "outputs": [
    {
     "data": {
      "text/plain": [
       "False"
      ]
     },
     "execution_count": 7,
     "metadata": {},
     "output_type": "execute_result"
    }
   ],
   "source": [
    "def checkNumber(arr,x):\n",
    "    n = len(arr)\n",
    "    if n ==1:\n",
    "        return x == arr[0]\n",
    "    smallOutput = checkNumber(arr[:n-1],x)\n",
    "    return smallOutput or (x==arr[n-1])\n",
    "arr = [1,2,3,4,5,6,7,8,9]\n",
    "x = 10\n",
    "checkNumber(arr,x)"
   ]
  },
  {
   "cell_type": "markdown",
   "id": "348b5b0a",
   "metadata": {},
   "source": [
    "## Linear Search using Recursion"
   ]
  },
  {
   "cell_type": "code",
   "execution_count": 8,
   "id": "f1fd4284",
   "metadata": {},
   "outputs": [
    {
     "name": "stdout",
     "output_type": "stream",
     "text": [
      "1 2 3 4 5 6 7 8 9 8 8 4 5 4 \n",
      "4\n"
     ]
    },
    {
     "data": {
      "text/plain": [
       "13"
      ]
     },
     "execution_count": 8,
     "metadata": {},
     "output_type": "execute_result"
    }
   ],
   "source": [
    "def linearSearchRecursion(arr,l,r,x):\n",
    "    while l < r:\n",
    "        if arr[l] == x:\n",
    "            return l\n",
    "        if arr[r] == x:\n",
    "            return r\n",
    "        return linearSearchRecursion(arr,l+1,r-1,x)\n",
    "arr =[int(i) for i in input().split()]\n",
    "x = int(input())\n",
    "l = 0\n",
    "r = len(arr) -1 \n",
    "linearSearchRecursion(arr,l,r,x)"
   ]
  },
  {
   "cell_type": "markdown",
   "id": "16ed892e",
   "metadata": {},
   "source": [
    "## First index of a number in a list"
   ]
  },
  {
   "cell_type": "code",
   "execution_count": 13,
   "id": "e0aadb2c",
   "metadata": {},
   "outputs": [
    {
     "name": "stdout",
     "output_type": "stream",
     "text": [
      "1 2 3 4 5\n",
      "5\n"
     ]
    },
    {
     "data": {
      "text/plain": [
       "True"
      ]
     },
     "execution_count": 13,
     "metadata": {},
     "output_type": "execute_result"
    }
   ],
   "source": [
    "def firstIndexCopy(arr,x):\n",
    "    \n",
    "    if len(arr) == 0:\n",
    "        return False\n",
    "    \n",
    "    if arr[0] == x:\n",
    "        return True\n",
    "    \n",
    "    isExist = firstIndexCopy(arr[1:],x)\n",
    "    \n",
    "    return isExist\n",
    "\n",
    "arr = [int(i) for i in input().split()]\n",
    "x = int(input())\n",
    "firstIndexCopy(arr,x)"
   ]
  },
  {
   "cell_type": "code",
   "execution_count": 22,
   "id": "ec9b1069",
   "metadata": {},
   "outputs": [
    {
     "data": {
      "text/plain": [
       "False"
      ]
     },
     "execution_count": 22,
     "metadata": {},
     "output_type": "execute_result"
    }
   ],
   "source": [
    "def firstIndexStart(arr,x,Si):\n",
    "    \n",
    "    l = len(arr)\n",
    "    if Si == l:\n",
    "        return False\n",
    "    if arr[Si] == x:\n",
    "        return True\n",
    "    \n",
    "    isExist = firstIndexStart(arr,x,Si+1)\n",
    "    return isExist\n",
    "\n",
    "arr = [1,4,5,3,5,4,7,8,5,2]\n",
    "x =88\n",
    "firstIndexStart(arr,x,0)"
   ]
  }
 ],
 "metadata": {
  "kernelspec": {
   "display_name": "Python 3 (ipykernel)",
   "language": "python",
   "name": "python3"
  },
  "language_info": {
   "codemirror_mode": {
    "name": "ipython",
    "version": 3
   },
   "file_extension": ".py",
   "mimetype": "text/x-python",
   "name": "python",
   "nbconvert_exporter": "python",
   "pygments_lexer": "ipython3",
   "version": "3.10.4"
  }
 },
 "nbformat": 4,
 "nbformat_minor": 5
}
