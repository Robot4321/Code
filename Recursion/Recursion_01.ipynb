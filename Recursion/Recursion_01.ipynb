{
 "cells": [
  {
   "cell_type": "markdown",
   "id": "9bc17a54",
   "metadata": {},
   "source": [
    "## Recursion"
   ]
  },
  {
   "cell_type": "markdown",
   "id": "67c09695",
   "metadata": {},
   "source": [
    "## Factorial"
   ]
  },
  {
   "cell_type": "code",
   "execution_count": null,
   "id": "a0737199",
   "metadata": {},
   "outputs": [],
   "source": [
    "def factorial(n):\n",
    "    if n == 0 :\n",
    "        return 1\n",
    "    fact = factorial(n - 1)\n",
    "    return n * fact\n",
    "\n",
    "n = int(input(\"Enter A Number:\"))\n",
    "factorial(n)"
   ]
  },
  {
   "cell_type": "markdown",
   "id": "a1f28893",
   "metadata": {},
   "source": [
    "## Sum of N"
   ]
  },
  {
   "cell_type": "code",
   "execution_count": null,
   "id": "a2cdaabe",
   "metadata": {},
   "outputs": [],
   "source": [
    "def sumofN(n):\n",
    "    if n == 0:\n",
    "        return 0\n",
    "    sum1 = sumofN(n - 1)\n",
    "    res = sum1 + n\n",
    "    return res\n",
    "n = int(input())\n",
    "sumofN(n)\n",
    "    "
   ]
  },
  {
   "cell_type": "markdown",
   "id": "7636314c",
   "metadata": {},
   "source": [
    "## First N Natural Numbers"
   ]
  },
  {
   "cell_type": "code",
   "execution_count": null,
   "id": "48e6b038",
   "metadata": {},
   "outputs": [],
   "source": [
    "def printN(n):\n",
    "    \n",
    "    if n == 0:\n",
    "        return\n",
    "    printN(n-1)\n",
    "    print(n)\n",
    "    return\n",
    "printN(int(input()))\n",
    "    "
   ]
  },
  {
   "cell_type": "markdown",
   "id": "47824446",
   "metadata": {},
   "source": [
    "## Print N to 1"
   ]
  },
  {
   "cell_type": "code",
   "execution_count": null,
   "id": "43e051fe",
   "metadata": {},
   "outputs": [],
   "source": [
    "def print_n_to_1(n):\n",
    "    if n == 0:\n",
    "        return\n",
    "    print(n)\n",
    "    print_n_to_1(n - 1)\n",
    "print_n_to_1(10)"
   ]
  },
  {
   "cell_type": "markdown",
   "id": "cb3083f8",
   "metadata": {},
   "source": [
    "## Print Odd Numbers from N to 1"
   ]
  },
  {
   "cell_type": "code",
   "execution_count": null,
   "id": "493aed73",
   "metadata": {},
   "outputs": [],
   "source": [
    " def printM(n):\n",
    "    if n < 0:\n",
    "        return\n",
    "    print(n,end=\" \")\n",
    "    printM(n - 2)\n",
    "printM(5)\n"
   ]
  },
  {
   "cell_type": "markdown",
   "id": "975dbe76",
   "metadata": {},
   "source": [
    "## Fibonacci series\n"
   ]
  },
  {
   "cell_type": "code",
   "execution_count": null,
   "id": "9f205046",
   "metadata": {},
   "outputs": [],
   "source": [
    "import sys\n",
    "sys.setrecursionlimit(3000)\n",
    "def fibb(n):\n",
    "    n = int(n)\n",
    "    \n",
    "    if n == 1 or n == 2:\n",
    "        return 1\n",
    "    \n",
    "    fib_n_1 = fibb(n - 1)\n",
    "    fib_n_2 = fibb(n - 2)\n",
    "    sum1 = fib_n_1 + fib_n_2\n",
    "    \n",
    "    return sum1\n",
    "\n",
    "x = fibb(10)\n",
    "print(x)\n"
   ]
  },
  {
   "cell_type": "code",
   "execution_count": null,
   "id": "ad6954f7",
   "metadata": {},
   "outputs": [],
   "source": [
    "def pal(s):\n",
    "    l = 0\n",
    "    r = len(s) -1\n",
    "    flag = 0\n",
    "    while l <= r:\n",
    "        if s[l] == s[r]:\n",
    "            l += 1\n",
    "            r -= 1\n",
    "        else:\n",
    "            flag += 1\n",
    "            break\n",
    "    if flag > 0:\n",
    "        print('false')\n",
    "    else:\n",
    "        print('true')\n",
    "        \n",
    "\n",
    "\n",
    "s = input()\n",
    "pal(s)"
   ]
  },
  {
   "cell_type": "code",
   "execution_count": null,
   "id": "cd4f18fd",
   "metadata": {},
   "outputs": [],
   "source": [
    "def fun(n):\n",
    "    if n == 4:\n",
    "        return n\n",
    "    return 2*fun(n+1)\n",
    "fun(2)"
   ]
  },
  {
   "cell_type": "markdown",
   "id": "c979c155",
   "metadata": {},
   "source": [
    " ## Check Array Sort"
   ]
  },
  {
   "cell_type": "code",
   "execution_count": null,
   "id": "a842be05",
   "metadata": {},
   "outputs": [],
   "source": [
    "def checkSort(arr):\n",
    "    flag = 0\n",
    "    for i in range(len(arr)- 1):\n",
    "        if arr[i] < arr[i+1]:\n",
    "            continue\n",
    "        else:\n",
    "            flag += 1\n",
    "    \n",
    "    if flag == 0:\n",
    "        print(\"True\")\n",
    "    elif flag >0:\n",
    "        print(\"False\")\n",
    "        \n",
    "def checkSortArr(arr):\n",
    "    l = len(arr)\n",
    "    if l == 0 or l == 1:\n",
    "        return True\n",
    "    if arr[0] > arr[1]:\n",
    "        return False\n",
    "    \n",
    "    smallerList = arr[1:]\n",
    "    isSmallerSorted = checkSortArr(smallerList)\n",
    "    if isSmallerSorted:\n",
    "        return True\n",
    "    else:\n",
    "        return False\n",
    "\n",
    "    \n",
    "arr = [1,2,3,6,7,8,19]\n",
    "checkSort(arr)\n",
    "checkSortArr(arr)"
   ]
  },
  {
   "cell_type": "code",
   "execution_count": null,
   "id": "578401e7",
   "metadata": {
    "scrolled": false
   },
   "outputs": [],
   "source": [
    "def checkNumber(arr, x):\n",
    "    # Please add your code here\n",
    "    print(arr[0], end=\" \")\n",
    "    if len(arr) == 1:\n",
    "        if arr[0] == x:\n",
    "            return True\n",
    "    smallarr = arr[1:]\n",
    "    isSmallExist = checkNumber(smallarr,x)\n",
    "    if isSmallExist:\n",
    "        return True\n",
    "    else:\n",
    "        return False\n",
    "    pass\n",
    "arr = [int(i) for i in input().split()]\n",
    "n = int(input())\n",
    "checkNumber(arr,n)"
   ]
  },
  {
   "cell_type": "markdown",
   "id": "4fb0cca3",
   "metadata": {},
   "source": [
    "## check List Sorted"
   ]
  },
  {
   "cell_type": "code",
   "execution_count": null,
   "id": "d96394ce",
   "metadata": {},
   "outputs": [],
   "source": [
    "def ifListSorted(arr):\n",
    "    l = len(arr)\n",
    "    if l ==1 or l ==0:\n",
    "        return True\n",
    "    \n",
    "    if arr[0] > arr[1]:\n",
    "        return False\n",
    "    \n",
    "    isSmallerListSorted = ifListSorted(arr[1:])\n",
    "    \n",
    "    return isSmallerListSorted\n",
    "\n",
    "ifListSorted(arr)\n",
    "    "
   ]
  },
  {
   "cell_type": "code",
   "execution_count": 14,
   "id": "42d44204",
   "metadata": {},
   "outputs": [
    {
     "data": {
      "text/plain": [
       "False"
      ]
     },
     "execution_count": 14,
     "metadata": {},
     "output_type": "execute_result"
    }
   ],
   "source": [
    "def ifListSortedOpimal(arr,Si):\n",
    "    \n",
    "    l = len(arr)\n",
    "    \n",
    "    if Si == l-1 or Si == l:\n",
    "        return True\n",
    "    \n",
    "    if arr[Si] > arr[Si + 1]:\n",
    "        return False\n",
    "    \n",
    "    isSmallListSorted = ifListSortedOpimal(arr, Si + 1)\n",
    "    \n",
    "    return isSmallListSorted\n",
    "arr = [1,2,3,4,5,6,7,99,9]\n",
    "ifListSortedOpimal(arr, 0)\n",
    "    "
   ]
  },
  {
   "cell_type": "code",
   "execution_count": 1,
   "id": "81553a01",
   "metadata": {},
   "outputs": [
    {
     "data": {
      "text/plain": [
       "False"
      ]
     },
     "execution_count": 1,
     "metadata": {},
     "output_type": "execute_result"
    }
   ],
   "source": [
    "def firstIndex(arr,x):\n",
    "    # if all elements have been checked\n",
    "    if len(arr) == 0:\n",
    "        return False\n",
    "    \n",
    "    if arr[0] == x:\n",
    "        return True\n",
    "    \n",
    "    ifFirstindex = firstIndex(arr[1:], x)\n",
    "    \n",
    "    return ifFirstindex\n",
    "        \n",
    "arr =[1,2,3,4,5,6,7,6,67,8,9]\n",
    "x = 100\n",
    "\n",
    "firstIndex(arr,x)\n",
    "        "
   ]
  },
  {
   "cell_type": "markdown",
   "id": "1792c042",
   "metadata": {},
   "source": [
    "## Last Index"
   ]
  },
  {
   "cell_type": "code",
   "execution_count": 4,
   "id": "37d5bcb9",
   "metadata": {},
   "outputs": [
    {
     "data": {
      "text/plain": [
       "8"
      ]
     },
     "execution_count": 4,
     "metadata": {},
     "output_type": "execute_result"
    }
   ],
   "source": [
    "def lastindex(arr,x):\n",
    "    \n",
    "    if len(arr) == 0:\n",
    "        return -1\n",
    "\n",
    "    isExist = lastindex(arr[1:],x)\n",
    "    if isExist != -1:\n",
    "        return isExist + 1\n",
    "    else:\n",
    "        if arr[0] == x:\n",
    "            return 0\n",
    "        else:\n",
    "            return -1\n",
    "arr = [1,4,5,2,5,2,3,6,2,1,4]\n",
    "x = 2\n",
    "lastindex(arr,2)\n",
    "\n",
    "    "
   ]
  }
 ],
 "metadata": {
  "kernelspec": {
   "display_name": "Python 3 (ipykernel)",
   "language": "python",
   "name": "python3"
  },
  "language_info": {
   "codemirror_mode": {
    "name": "ipython",
    "version": 3
   },
   "file_extension": ".py",
   "mimetype": "text/x-python",
   "name": "python",
   "nbconvert_exporter": "python",
   "pygments_lexer": "ipython3",
   "version": "3.10.4"
  }
 },
 "nbformat": 4,
 "nbformat_minor": 5
}
