{
 "cells": [
  {
   "cell_type": "markdown",
   "id": "5202db19",
   "metadata": {},
   "source": [
    "# Row Wise Sum"
   ]
  },
  {
   "cell_type": "code",
   "execution_count": 1,
   "id": "b390bd2b",
   "metadata": {
    "scrolled": true
   },
   "outputs": [
    {
     "name": "stdout",
     "output_type": "stream",
     "text": [
      "2 3\n",
      "1 2 3 4 5 6\n",
      "[[1, 2, 3], [4, 5, 6]]\n",
      "[4, 5, 6]\n"
     ]
    },
    {
     "ename": "IndexError",
     "evalue": "list index out of range",
     "output_type": "error",
     "traceback": [
      "\u001b[1;31m---------------------------------------------------------------------------\u001b[0m",
      "\u001b[1;31mIndexError\u001b[0m                                Traceback (most recent call last)",
      "Input \u001b[1;32mIn [1]\u001b[0m, in \u001b[0;36m<cell line: 16>\u001b[1;34m()\u001b[0m\n\u001b[0;32m     17\u001b[0m     arr \u001b[38;5;241m=\u001b[39m [[\u001b[38;5;28mint\u001b[39m(arr1[(m\u001b[38;5;241m*\u001b[39mi) \u001b[38;5;241m+\u001b[39m j]) \u001b[38;5;28;01mfor\u001b[39;00m j \u001b[38;5;129;01min\u001b[39;00m \u001b[38;5;28mrange\u001b[39m(m)] \u001b[38;5;28;01mfor\u001b[39;00m i \u001b[38;5;129;01min\u001b[39;00m \u001b[38;5;28mrange\u001b[39m(n)]\n\u001b[0;32m     18\u001b[0m     \u001b[38;5;28mprint\u001b[39m(arr)\n\u001b[1;32m---> 19\u001b[0m     \u001b[43mrowWiseSum\u001b[49m\u001b[43m(\u001b[49m\u001b[43marr\u001b[49m\u001b[43m,\u001b[49m\u001b[43mn\u001b[49m\u001b[43m,\u001b[49m\u001b[43mm\u001b[49m\u001b[43m)\u001b[49m\n\u001b[0;32m     20\u001b[0m \u001b[38;5;28;01melse\u001b[39;00m:\n\u001b[0;32m     21\u001b[0m     \u001b[38;5;28mprint\u001b[39m(\u001b[38;5;124m\"\u001b[39m\u001b[38;5;124mArray Index Out of Bounds\u001b[39m\u001b[38;5;124m\"\u001b[39m)\n",
      "Input \u001b[1;32mIn [1]\u001b[0m, in \u001b[0;36mrowWiseSum\u001b[1;34m(arr, n, m)\u001b[0m\n\u001b[0;32m      5\u001b[0m \u001b[38;5;28msum\u001b[39m \u001b[38;5;241m=\u001b[39m \u001b[38;5;241m0\u001b[39m\n\u001b[0;32m      6\u001b[0m \u001b[38;5;28;01mfor\u001b[39;00m ele \u001b[38;5;129;01min\u001b[39;00m i:\n\u001b[1;32m----> 7\u001b[0m     \u001b[38;5;28mprint\u001b[39m(\u001b[43marr\u001b[49m\u001b[43m[\u001b[49m\u001b[43mele\u001b[49m\u001b[43m]\u001b[49m)\n\u001b[0;32m      8\u001b[0m     \u001b[38;5;28msum\u001b[39m \u001b[38;5;241m+\u001b[39m\u001b[38;5;241m=\u001b[39m ele\n\u001b[0;32m      9\u001b[0m \u001b[38;5;28mprint\u001b[39m (\u001b[38;5;28msum\u001b[39m)\n",
      "\u001b[1;31mIndexError\u001b[0m: list index out of range"
     ]
    }
   ],
   "source": [
    "def rowWiseSum(arr, n , m):\n",
    "    \n",
    "    #reach row in 2d list is a list\n",
    "    for i in arr:\n",
    "        sum = 0\n",
    "        for ele in i:\n",
    "            #print(arr[ele])\n",
    "            sum += ele\n",
    "        print (sum)\n",
    "\n",
    "str1 = input().split()\n",
    "n,m = int(str1[0]), int(str1[1])\n",
    "\n",
    "arr1 = input().split()\n",
    "\n",
    "if len(arr1) == m*n:\n",
    "    arr = [[int(arr1[(m*i) + j]) for j in range(m)] for i in range(n)]\n",
    "    print(arr)\n",
    "    rowWiseSum(arr,n,m)\n",
    "else:\n",
    "    print(\"Array Index Out of Bounds\")\n",
    "\n"
   ]
  },
  {
   "cell_type": "code",
   "execution_count": null,
   "id": "bdc32e5b",
   "metadata": {},
   "outputs": [],
   "source": []
  }
 ],
 "metadata": {
  "kernelspec": {
   "display_name": "Python 3 (ipykernel)",
   "language": "python",
   "name": "python3"
  },
  "language_info": {
   "codemirror_mode": {
    "name": "ipython",
    "version": 3
   },
   "file_extension": ".py",
   "mimetype": "text/x-python",
   "name": "python",
   "nbconvert_exporter": "python",
   "pygments_lexer": "ipython3",
   "version": "3.10.4"
  },
  "vscode": {
   "interpreter": {
    "hash": "22858cb26a6e6bb900cc231eed77780ce587f9aa185bfffef14ba24bc6796271"
   }
  }
 },
 "nbformat": 4,
 "nbformat_minor": 5
}
