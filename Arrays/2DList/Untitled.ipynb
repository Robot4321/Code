{
 "cells": [
  {
   "cell_type": "markdown",
   "id": "e34f5d35",
   "metadata": {},
   "source": [
    "# Largest Column Sum\n"
   ]
  },
  {
   "cell_type": "code",
   "execution_count": 1,
   "id": "3c0bea54",
   "metadata": {},
   "outputs": [
    {
     "name": "stdout",
     "output_type": "stream",
     "text": [
      "1 5 9 2 6 10 3 7 11 4 8 12 "
     ]
    }
   ],
   "source": [
    "li=[[1,2,3,4],[5,6,7,8],[9,10,11,12]]\n",
    "n = len(li)\n",
    "m = len(li[0])\n",
    "colIndex , colSum, rowIndex, RowSum = 0,0,0,0\n",
    "\n",
    "maxColSum,maxRowSum,maxColIndex,maxRowindex = 0,0,0,0\n",
    "\n",
    "for j in range(m):\n",
    "    for i in range(n):\n",
    "        colSum += li[i][j]\n",
    "\n",
    "    if colSum > maxColSum:\n",
    "        maxColSum = colSum\n",
    "        colIndex = j\n",
    "\n",
    "        return "
   ]
  },
  {
   "cell_type": "code",
   "execution_count": null,
   "id": "0333c050",
   "metadata": {},
   "outputs": [],
   "source": []
  }
 ],
 "metadata": {
  "kernelspec": {
   "display_name": "Python 3 (ipykernel)",
   "language": "python",
   "name": "python3"
  },
  "language_info": {
   "codemirror_mode": {
    "name": "ipython",
    "version": 3
   },
   "file_extension": ".py",
   "mimetype": "text/x-python",
   "name": "python",
   "nbconvert_exporter": "python",
   "pygments_lexer": "ipython3",
   "version": "3.10.4"
  }
 },
 "nbformat": 4,
 "nbformat_minor": 5
}
