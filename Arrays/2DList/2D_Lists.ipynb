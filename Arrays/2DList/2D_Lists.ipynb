{
 "cells": [
  {
   "cell_type": "markdown",
   "id": "12c96135",
   "metadata": {},
   "source": [
    "# 2 D Arrays"
   ]
  },
  {
   "cell_type": "markdown",
   "id": "9ddde964",
   "metadata": {},
   "source": [
    "### Jagged List input"
   ]
  },
  {
   "cell_type": "code",
   "execution_count": 17,
   "id": "79a47820",
   "metadata": {},
   "outputs": [
    {
     "name": "stdout",
     "output_type": "stream",
     "text": [
      "4\n",
      "1 2 3 4 5 6 7 \n",
      "1 5 6 8\n",
      "2 3 6 45 4 7 8\n",
      "8 5 2 1\n"
     ]
    }
   ],
   "source": [
    "str1 = input().split()\n",
    "n = int(str1[0])\n",
    "l1 = [[int(j) for j in input().split()] for i in range(n)]"
   ]
  },
  {
   "cell_type": "code",
   "execution_count": 18,
   "id": "b15b36fd",
   "metadata": {},
   "outputs": [
    {
     "data": {
      "text/plain": [
       "[[1, 2, 3, 4, 5, 6, 7], [1, 5, 6, 8], [2, 3, 6, 45, 4, 7, 8], [8, 5, 2, 1]]"
      ]
     },
     "execution_count": 18,
     "metadata": {},
     "output_type": "execute_result"
    }
   ],
   "source": [
    "l1\n"
   ]
  },
  {
   "cell_type": "markdown",
   "id": "a17f03e0",
   "metadata": {},
   "source": [
    "### Normal 2 D list Input"
   ]
  },
  {
   "cell_type": "code",
   "execution_count": 6,
   "id": "8c7cc6f7",
   "metadata": {},
   "outputs": [
    {
     "name": "stdout",
     "output_type": "stream",
     "text": [
      "2 3\n",
      "1 2 3 4 5 6\n"
     ]
    }
   ],
   "source": [
    "str1 = input().split()\n",
    "n,m = int(str1[0]), int(str1[1])\n",
    "arr1 = input().split()\n",
    "\n",
    "if len(arr1) == n*m:\n",
    "    arr = [[int(arr1[(m*i) + j]) for j in range(m)] for i in range(n)]\n",
    "else:\n",
    "    print(\"Array index Out of range\")\n",
    "\n",
    "\n"
   ]
  },
  {
   "cell_type": "code",
   "execution_count": 13,
   "id": "3e5cf190",
   "metadata": {},
   "outputs": [
    {
     "name": "stdout",
     "output_type": "stream",
     "text": [
      "[[1, 2, 3], [4, 5, 6]]\n"
     ]
    }
   ],
   "source": [
    "print(arr)"
   ]
  },
  {
   "cell_type": "markdown",
   "id": "d916b9ca",
   "metadata": {},
   "source": [
    "### Printing 2d arrays"
   ]
  },
  {
   "cell_type": "code",
   "execution_count": 16,
   "id": "7a62872c",
   "metadata": {},
   "outputs": [
    {
     "name": "stdout",
     "output_type": "stream",
     "text": [
      "1 2 3 \n",
      "4 5 6 \n"
     ]
    }
   ],
   "source": [
    "for i in range(n):\n",
    "    for j in range(m):\n",
    "        print(arr[i][j], end=' ')\n",
    "    print()"
   ]
  },
  {
   "cell_type": "markdown",
   "id": "34e50133",
   "metadata": {},
   "source": [
    "### Printing Jagged List"
   ]
  },
  {
   "cell_type": "code",
   "execution_count": 19,
   "id": "c6444f90",
   "metadata": {},
   "outputs": [
    {
     "name": "stdout",
     "output_type": "stream",
     "text": [
      "[[1, 2, 3, 4, 5, 6, 7], [1, 5, 6, 8], [2, 3, 6, 45, 4, 7, 8], [8, 5, 2, 1]]\n"
     ]
    }
   ],
   "source": [
    "print(l1)"
   ]
  },
  {
   "cell_type": "code",
   "execution_count": 22,
   "id": "22d654bc",
   "metadata": {},
   "outputs": [
    {
     "name": "stdout",
     "output_type": "stream",
     "text": [
      "1 2 3 4 5 6 7 \n",
      "1 5 6 8 \n",
      "2 3 6 45 4 7 8 \n",
      "8 5 2 1 \n"
     ]
    }
   ],
   "source": [
    "for i in l1:\n",
    "    for j in i:\n",
    "        print (j, end=' ')\n",
    "    print()\n",
    "    "
   ]
  },
  {
   "cell_type": "markdown",
   "id": "929f973a",
   "metadata": {},
   "source": [
    "### Space Seperated String Output of a 2d List\n"
   ]
  },
  {
   "cell_type": "code",
   "execution_count": 23,
   "id": "cff974e8",
   "metadata": {},
   "outputs": [
    {
     "name": "stdout",
     "output_type": "stream",
     "text": [
      "[[1, 2, 3, 4, 5, 6, 7], [1, 5, 6, 8], [2, 3, 6, 45, 4, 7, 8], [8, 5, 2, 1]]\n"
     ]
    }
   ],
   "source": [
    "print(l1)"
   ]
  },
  {
   "cell_type": "code",
   "execution_count": 25,
   "id": "161076c5",
   "metadata": {},
   "outputs": [
    {
     "name": "stdout",
     "output_type": "stream",
     "text": [
      "1 2 3 4 5 6 7\n",
      "1 5 6 8\n",
      "2 3 6 45 4 7 8\n",
      "8 5 2 1\n"
     ]
    }
   ],
   "source": [
    "for i in l1:\n",
    "    output = ' '.join([str(ele) for ele in i])\n",
    "    print(output)\n"
   ]
  },
  {
   "cell_type": "code",
   "execution_count": null,
   "id": "6e432eeb",
   "metadata": {},
   "outputs": [],
   "source": []
  }
 ],
 "metadata": {
  "kernelspec": {
   "display_name": "Python 3.10.4 64-bit",
   "language": "python",
   "name": "python3"
  },
  "language_info": {
   "codemirror_mode": {
    "name": "ipython",
    "version": 3
   },
   "file_extension": ".py",
   "mimetype": "text/x-python",
   "name": "python",
   "nbconvert_exporter": "python",
   "pygments_lexer": "ipython3",
   "version": "3.10.4"
  },
  "vscode": {
   "interpreter": {
    "hash": "22858cb26a6e6bb900cc231eed77780ce587f9aa185bfffef14ba24bc6796271"
   }
  }
 },
 "nbformat": 4,
 "nbformat_minor": 5
}
